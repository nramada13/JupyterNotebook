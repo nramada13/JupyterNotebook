{
 "cells": [
  {
   "cell_type": "code",
   "execution_count": null,
   "id": "0f835476",
   "metadata": {},
   "outputs": [],
   "source": [
    "# 3.1 How many seconds are in an hour?\n",
    "60 * 60"
   ]
  },
  {
   "cell_type": "code",
   "execution_count": null,
   "id": "56a50772",
   "metadata": {},
   "outputs": [],
   "source": [
    "# 3.2 Assign result to a variable\n",
    "seconds_per_hour = 60 * 60\n",
    "seconds_per_hour"
   ]
  },
  {
   "cell_type": "code",
   "execution_count": null,
   "id": "f0f6a3a3",
   "metadata": {},
   "outputs": [],
   "source": [
    "# 3.3 How many seconds are in a day?\n",
    "seconds_per_hour * 24"
   ]
  },
  {
   "cell_type": "code",
   "execution_count": null,
   "id": "99a347c6",
   "metadata": {},
   "outputs": [],
   "source": [
    "# 3.4 Save result in a variable\n",
    "seconds_per_day = seconds_per_hour * 24\n",
    "seconds_per_day"
   ]
  },
  {
   "cell_type": "code",
   "execution_count": null,
   "id": "86e76faa",
   "metadata": {},
   "outputs": [],
   "source": [
    "# 3.5 Floating-point division\n",
    "seconds_per_day / seconds_per_hour"
   ]
  },
  {
   "cell_type": "code",
   "execution_count": null,
   "id": "9a25aa7e",
   "metadata": {},
   "outputs": [],
   "source": [
    "# 3.6 Integer division\n",
    "seconds_per_day // seconds_per_hour"
   ]
  }
 ],
 "metadata": {},
 "nbformat": 4,
 "nbformat_minor": 5
}
