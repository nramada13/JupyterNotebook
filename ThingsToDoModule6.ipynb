{
 "cells": [
  {
   "cell_type": "code",
   "execution_count": 5,
   "id": "3de3043d-ee2c-4210-86ed-91f48629cfa9",
   "metadata": {},
   "outputs": [
    {
     "data": {
      "text/plain": [
       "10"
      ]
     },
     "execution_count": 5,
     "metadata": {},
     "output_type": "execute_result"
    }
   ],
   "source": [
    "# 13.1 Write today's date to today.txt\n",
    "from datetime import date, datetime\n",
    "from pathlib import Path\n",
    "\n",
    "path = Path(\"today.txt\")\n",
    "today = date.today()                       \n",
    "path.write_text(today.isoformat())         \n"
   ]
  },
  {
   "cell_type": "code",
   "execution_count": 2,
   "id": "9d676ed7-f139-4882-91c7-aa20a16be123",
   "metadata": {},
   "outputs": [
    {
     "name": "stdout",
     "output_type": "stream",
     "text": [
      "today_string: 2025-10-06\n"
     ]
    }
   ],
   "source": [
    "# 13.2 Read today.txt into a string\n",
    "today_string = path.read_text()\n",
    "print(\"today_string:\", today_string)"
   ]
  },
  {
   "cell_type": "code",
   "execution_count": 3,
   "id": "73655891-3454-4b82-acc5-8cdec7b91184",
   "metadata": {},
   "outputs": [
    {
     "name": "stdout",
     "output_type": "stream",
     "text": [
      "parsed_date: 2025-10-06 <class 'datetime.date'>\n"
     ]
    }
   ],
   "source": [
    "# 13.3 Parse the date from today_string\n",
    "parsed_date = datetime.strptime(today_string, \"%Y-%m-%d\").date()\n",
    "print(\"parsed_date:\", parsed_date, type(parsed_date))"
   ]
  },
  {
   "cell_type": "code",
   "execution_count": 7,
   "id": "1c728657-f76e-471b-a9d1-ea7b76cbc648",
   "metadata": {},
   "outputs": [
    {
     "name": "stdout",
     "output_type": "stream",
     "text": [
      "Thread 1 | delay=0.040s | time=2025-10-06T11:15:21\n",
      "Thread 3 | delay=0.305s | time=2025-10-06T11:15:22\n",
      "Thread 2 | delay=0.598s | time=2025-10-06T11:15:22\n"
     ]
    }
   ],
   "source": [
    "import threading, random, time\n",
    "from datetime import datetime\n",
    "\n",
    "def worker(idx):\n",
    "    delay = random.uniform(0, 1)\n",
    "    time.sleep(delay)\n",
    "    print(f\"Thread {idx} | delay={delay:.3f}s | time={datetime.now().isoformat(timespec='seconds')}\")\n",
    "\n",
    "threads = [threading.Thread(target=worker, args=(i,)) for i in range(1, 4)]\n",
    "for t in threads: t.start()\n",
    "for t in threads: t.join()\n",
    "\n"
   ]
  },
  {
   "cell_type": "code",
   "execution_count": null,
   "id": "e78c7c45-2f5e-4c32-a8c0-038c19d84ff7",
   "metadata": {},
   "outputs": [],
   "source": []
  }
 ],
 "metadata": {
  "kernelspec": {
   "display_name": "Python 3 (ipykernel)",
   "language": "python",
   "name": "python3"
  },
  "language_info": {
   "codemirror_mode": {
    "name": "ipython",
    "version": 3
   },
   "file_extension": ".py",
   "mimetype": "text/x-python",
   "name": "python",
   "nbconvert_exporter": "python",
   "pygments_lexer": "ipython3",
   "version": "3.13.5"
  }
 },
 "nbformat": 4,
 "nbformat_minor": 5
}
