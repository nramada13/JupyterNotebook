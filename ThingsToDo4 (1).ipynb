{
 "cells": [
  {
   "cell_type": "code",
   "execution_count": 7,
   "id": "8810bdbf-bf74-49a9-96ce-2f6d70af2c6a",
   "metadata": {},
   "outputs": [
    {
     "name": "stdout",
     "output_type": "stream",
     "text": [
      "Open 9-5 daily\n"
     ]
    }
   ],
   "source": [
    "#11.1\n",
    "import zoo\n",
    "zoo.hours()\n"
   ]
  },
  {
   "cell_type": "code",
   "execution_count": 31,
   "id": "00141c91-3dbc-4765-b323-4ccd15cd38d4",
   "metadata": {},
   "outputs": [
    {
     "name": "stdout",
     "output_type": "stream",
     "text": [
      "Open 9-5 daily\n"
     ]
    }
   ],
   "source": [
    "#11.2\n",
    "import zoo as menagerie\n",
    "menagerie.hours()\n"
   ]
  },
  {
   "cell_type": "code",
   "execution_count": 33,
   "id": "334be747-ee1c-49bd-82e4-9ae7a69e9216",
   "metadata": {},
   "outputs": [
    {
     "data": {
      "text/plain": [
       "['Perdido Street Station',\n",
       " 'Small Gods',\n",
       " 'The Night Watch',\n",
       " 'The Weirdstone of Brisingamen',\n",
       " 'Thud!']"
      ]
     },
     "execution_count": 33,
     "metadata": {},
     "output_type": "execute_result"
    }
   ],
   "source": [
    "#16.8\n",
    "from sqlalchemy import create_engine, text\n",
    "from pathlib import Path\n",
    "\n",
    "db_path = Path.home() / \"my_books.db\"      \n",
    "engine = create_engine(f\"sqlite:///{db_path.as_posix()}\", future=True)\n",
    "\n",
    "with engine.connect() as conn:\n",
    "    result = conn.execute(text(\"SELECT title FROM book ORDER BY title\"))\n",
    "    titles = [row[0] for row in result]    \n",
    "\n",
    "titles    \n"
   ]
  },
  {
   "cell_type": "code",
   "execution_count": null,
   "id": "126e3611-1c88-4de4-b666-43b49ca35887",
   "metadata": {},
   "outputs": [],
   "source": []
  }
 ],
 "metadata": {
  "kernelspec": {
   "display_name": "Python 3 (ipykernel)",
   "language": "python",
   "name": "python3"
  },
  "language_info": {
   "codemirror_mode": {
    "name": "ipython",
    "version": 3
   },
   "file_extension": ".py",
   "mimetype": "text/x-python",
   "name": "python",
   "nbconvert_exporter": "python",
   "pygments_lexer": "ipython3",
   "version": "3.13.5"
  }
 },
 "nbformat": 4,
 "nbformat_minor": 5
}
