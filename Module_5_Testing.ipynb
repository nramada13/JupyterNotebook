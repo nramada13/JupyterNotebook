{
 "cells": [
  {
   "cell_type": "code",
   "execution_count": 1,
   "id": "aa2cf2bd-2637-4b91-8bfa-cb44341cb380",
   "metadata": {},
   "outputs": [],
   "source": [
    "def add(a, b):\n",
    "    \"\"\"Return the sum of two numbers.\"\"\"\n",
    "    return a + b\n",
    "\n",
    "    import unittest\n",
    "import mymath\n",
    "\n",
    "class TestMyMath(unittest.TestCase):\n",
    "    def test_add_positive_integers(self):\n",
    "        self.assertEqual(mymath.add(2, 3), 5)\n",
    "\n",
    "    def test_add_negative_and_positive(self):\n",
    "        self.assertEqual(mymath.add(-4, 10), 6)\n",
    "\n",
    "    def test_add_floats(self):\n",
    "        self.assertAlmostEqual(mymath.add(0.1, 0.2), 0.3, places=7)\n",
    "\n",
    "if __name__ == \"__main__\":\n",
    "    unittest.main()"
   ]
  },
  {
   "cell_type": "code",
   "execution_count": null,
   "id": "7056c8a2-9703-4cf0-a554-22ee3714028b",
   "metadata": {},
   "outputs": [],
   "source": [
    "PS C:\\Users\\noorr\\OneDrive\\Desktop\\MATH> python -m unittest -v\n",
    "test_add_negative_and_positive (test_mymath.TestMyMath.test_add_negative_and_positive) ... ok\n",
    "test_add_positive_integers (test_mymath.TestMyMath.test_add_positive_integers) ... ok       \n",
    "\n",
    "----------------------------------------------------------------------\n",
    "Ran 3 tests in 0.000s\n",
    "\n",
    "OK\n",
    "\n",
    "\n",
    "The test run shows three tests executed with the status OK, meaning every assertion passed.\n",
    "Each test targets a different case of add: positive integers, mixed sign integers, and floating\n",
    "point addition. The verbose output lists each test method and marks it as ok. If any assertion failed,\n",
    "the report would show FAIL and include a tracebook indicating which expected value didn't match the actual\n",
    "result which is how you quickly locate and fix bugs. Overall, these results mean the current implentation\n",
    "of add behaves as intended for the tested inputs."
   ]
  }
 ],
 "metadata": {
  "kernelspec": {
   "display_name": "Python 3 (ipykernel)",
   "language": "python",
   "name": "python3"
  },
  "language_info": {
   "codemirror_mode": {
    "name": "ipython",
    "version": 3
   },
   "file_extension": ".py",
   "mimetype": "text/x-python",
   "name": "python",
   "nbconvert_exporter": "python",
   "pygments_lexer": "ipython3",
   "version": "3.13.5"
  }
 },
 "nbformat": 4,
 "nbformat_minor": 5
}
