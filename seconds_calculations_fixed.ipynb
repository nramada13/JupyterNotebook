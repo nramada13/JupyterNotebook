{
 "cells": [
  {
   "cell_type": "code",
   "execution_count": null,
   "id": "f47d8ae8",
   "metadata": {},
   "outputs": [],
   "source": [
    "# 3.1 How many seconds are in an hour?\n",
    "60 * 60"
   ]
  },
  {
   "cell_type": "code",
   "execution_count": null,
   "id": "8ebae5c2",
   "metadata": {},
   "outputs": [],
   "source": [
    "# 3.2 Assign result to a variable\n",
    "seconds_per_hour = 60 * 60\n",
    "seconds_per_hour"
   ]
  },
  {
   "cell_type": "code",
   "execution_count": null,
   "id": "1daccb1d",
   "metadata": {},
   "outputs": [],
   "source": [
    "# 3.3 How many seconds are in a day?\n",
    "seconds_per_hour * 24"
   ]
  },
  {
   "cell_type": "code",
   "execution_count": null,
   "id": "e5d0f661",
   "metadata": {},
   "outputs": [],
   "source": [
    "# 3.4 Save result in a variable\n",
    "seconds_per_day = seconds_per_hour * 24\n",
    "seconds_per_day"
   ]
  },
  {
   "cell_type": "code",
   "execution_count": null,
   "id": "d4bce7d5",
   "metadata": {},
   "outputs": [],
   "source": [
    "# 3.5 Floating-point division\n",
    "seconds_per_day / seconds_per_hour"
   ]
  },
  {
   "cell_type": "code",
   "execution_count": null,
   "id": "b8e19e29",
   "metadata": {},
   "outputs": [],
   "source": [
    "# 3.6 Integer division\n",
    "seconds_per_day // seconds_per_hour"
   ]
  }
 ],
 "metadata": {
  "kernelspec": {
   "display_name": "Python 3",
   "language": "python",
   "name": "python3"
  },
  "language_info": {
   "name": "python",
   "version": "3.10"
  }
 },
 "nbformat": 4,
 "nbformat_minor": 5
}
